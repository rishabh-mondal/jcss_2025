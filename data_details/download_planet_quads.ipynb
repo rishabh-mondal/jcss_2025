{
 "cells": [
  {
   "cell_type": "code",
   "execution_count": 2,
   "metadata": {},
   "outputs": [
    {
     "data": {
      "text/plain": [
       "True"
      ]
     },
     "execution_count": 2,
     "metadata": {},
     "output_type": "execute_result"
    }
   ],
   "source": [
    "# Config\n",
    "import os\n",
    "import json\n",
    "import geojson\n",
    "import leafmap.leafmap as leafmap\n",
    "import requests\n",
    "from PIL import Image\n",
    "\n",
    "# Basic\n",
    "import numpy as np\n",
    "import pandas as pd\n",
    "import matplotlib.pyplot as plt\n",
    "\n",
    "# Monitoring\n",
    "from tqdm.notebook import tqdm\n",
    "\n",
    "# IO\n",
    "from os.path import join, exists, basename, dirname, splitext, expanduser\n",
    "from glob import glob\n",
    "from shapely.geometry import Point\n",
    "from shapely import vectorized\n",
    "\n",
    "import geopandas as gpd\n",
    "\n",
    "# Parallel processing\n",
    "from joblib import Parallel, delayed\n",
    "import concurrent.futures as cf\n",
    "\n",
    "import rioxarray as rxr\n",
    "\n",
    "# Load environment variables\n",
    "from dotenv import load_dotenv\n",
    "load_dotenv()"
   ]
  },
  {
   "cell_type": "code",
   "execution_count": null,
   "metadata": {},
   "outputs": [],
   "source": [
    "region = \"region_name\" # Put roi (ie\"uttar_pradesh\", \"delhi_airshed\",\"lucknow_airshed\",\"bihar\")\n",
    "download_dir = \"\"\n",
    "quarter = \"\" # Put time of interest ex: 2024q1\n",
    "PLANET_API_KEY= \"\" ## Put your planet api key \n",
    "print(PLANET_API_KEY)\n",
    "assert PLANET_API_KEY is not None\n",
    "shape_path = f\"{region}.geojson\" ## Shape file path\n",
    "shape_gdf = gpd.read_file(shape_path)\n",
    "shape_gdf = shape_gdf.to_crs(\"EPSG:4326\")\n",
    "print(shape_gdf.crs)"
   ]
  },
  {
   "cell_type": "code",
   "execution_count": null,
   "metadata": {},
   "outputs": [],
   "source": [
    "\n",
    "\n",
    "m = leafmap.Map()\n",
    "m.add_basemap(\"HYBRID\")\n",
    "m.add_gdf(shape_gdf, zoom_to_layer=True)\n",
    "m"
   ]
  },
  {
   "cell_type": "code",
   "execution_count": null,
   "metadata": {},
   "outputs": [],
   "source": [
    "headers = {\"Authorization\": f\"api-key {PLANET_API_KEY}\"}\n",
    "params = {\n",
    "    \"name__contains\": quarter,\n",
    "}\n",
    "\n",
    "response = requests.get(f\"https://api.planet.com/basemaps/v1/mosaics\", headers=headers, params=params)\n",
    "response.json()"
   ]
  },
  {
   "cell_type": "code",
   "execution_count": null,
   "metadata": {},
   "outputs": [],
   "source": [
    "assert len(response.json()[\"mosaics\"]) == 1\n",
    "mosaic = response.json()[\"mosaics\"][0]\n",
    "print(mosaic['name'])\n",
    "print(mosaic['id'])\n",
    "metadata_save_dir = join(download_dir, \"metadata\", region, mosaic['name'])\n",
    "min_lon, min_lat, max_lon, max_lat = shape_gdf.bounds.values[0]\n",
    "print(min_lon, min_lat, max_lon, max_lat)"
   ]
  },
  {
   "cell_type": "code",
   "execution_count": null,
   "metadata": {},
   "outputs": [],
   "source": [
    "params = {\n",
    "    \"bbox\": f\"{min_lon},{min_lat},{max_lon},{max_lat}\",\n",
    "    \"_page_size\": 10000,\n",
    "}\n",
    "\n",
    "response = requests.get(f\"https://api.planet.com/basemaps/v1/mosaics/{mosaic['id']}/quads\", headers=headers, params=params)\n",
    "quads = response.json()['items']\n",
    "print(\"Number of quads:\", len(quads))"
   ]
  },
  {
   "cell_type": "code",
   "execution_count": null,
   "metadata": {},
   "outputs": [],
   "source": [
    "shape_gdf.plot(color=\"none\", edgecolor=\"black\")\n",
    "for quad in tqdm(quads):\n",
    "    bounds = quad['bbox']\n",
    "    plt.plot([bounds[0], bounds[2], bounds[2], bounds[0], bounds[0]], [bounds[1], bounds[1], bounds[3], bounds[3], bounds[1]], color=\"red\")"
   ]
  },
  {
   "cell_type": "code",
   "execution_count": null,
   "metadata": {},
   "outputs": [],
   "source": [
    "bboxes = np.array([quad['bbox'] for quad in quads])\n",
    "print(f\"{bboxes.shape=}\")\n",
    "\n",
    "\n",
    "print(bboxes)\n",
    "top_left_inside = vectorized.contains(shape_gdf.geometry.item(), bboxes[:, 0], bboxes[:, 3])\n",
    "top_right_inside = vectorized.contains(shape_gdf.geometry.item(), bboxes[:, 2], bboxes[:, 3])\n",
    "bottom_left_inside = vectorized.contains(shape_gdf.geometry.item(), bboxes[:, 0], bboxes[:, 1])\n",
    "bottom_right_inside = vectorized.contains(shape_gdf.geometry.item(), bboxes[:, 2], bboxes[:, 1])\n",
    "one_of_the_corners_inside = np.logical_or(np.logical_or(top_left_inside, top_right_inside), np.logical_or(bottom_left_inside, bottom_right_inside))\n",
    "print(f\"{one_of_the_corners_inside.sum()=}\")\n",
    "quads_within_roi = np.array(quads)[one_of_the_corners_inside]\n",
    "quads_within_roi.shape"
   ]
  },
  {
   "cell_type": "code",
   "execution_count": null,
   "metadata": {},
   "outputs": [],
   "source": [
    "shape_gdf.plot(color=\"none\", edgecolor=\"black\")\n",
    "for quad in quads_within_roi:\n",
    "    bounds = quad['bbox']\n",
    "    plt.plot([bounds[0], bounds[2], bounds[2], bounds[0], bounds[0]], [bounds[1], bounds[1], bounds[3], bounds[3], bounds[1]], color=\"red\")"
   ]
  },
  {
   "cell_type": "code",
   "execution_count": null,
   "metadata": {},
   "outputs": [],
   "source": [
    "# each item in quads_within_roi is a dict. Combine into a geojson feature collection\n",
    "features = []\n",
    "for quad in tqdm(quads_within_roi):\n",
    "    feature = {\n",
    "        \"type\": \"Feature\",\n",
    "        \"geometry\": {\n",
    "            \"type\": \"Polygon\",\n",
    "            \"coordinates\": [[\n",
    "                [quad['bbox'][0], quad['bbox'][1]],\n",
    "                [quad['bbox'][2], quad['bbox'][1]],\n",
    "                [quad['bbox'][2], quad['bbox'][3]],\n",
    "                [quad['bbox'][0], quad['bbox'][3]],\n",
    "                [quad['bbox'][0], quad['bbox'][1]],\n",
    "            ]],\n",
    "        },\n",
    "        \"properties\": {\n",
    "            \"_self\": quad['_links']['_self'],\n",
    "            \"download\": quad['_links']['download'],\n",
    "            \"items\": quad['_links']['items'],\n",
    "            \"thumbnail\": quad['_links']['thumbnail'],\n",
    "            \"id\": quad['id'],\n",
    "            \"percent_covered\": quad['percent_covered'],\n",
    "        }\n",
    "    }\n",
    "    features.append(feature)\n",
    "    \n",
    "collection = geojson.FeatureCollection(features)"
   ]
  },
  {
   "cell_type": "code",
   "execution_count": null,
   "metadata": {},
   "outputs": [],
   "source": [
    "os.makedirs(metadata_save_dir, exist_ok=True)\n",
    "with open(join(metadata_save_dir, \"metadata.geojson\"), \"w\") as f:\n",
    "    geojson.dump(collection, f)\n",
    "\n",
    "with open(join(metadata_save_dir, \"metadata.geojson\"), \"r\") as f:\n",
    "    collection = geojson.load(f)    "
   ]
  },
  {
   "cell_type": "code",
   "execution_count": null,
   "metadata": {},
   "outputs": [],
   "source": [
    "features = collection['features']\n",
    "print(f\"{len(features) = }\")\n",
    "set([feature['properties']['percent_covered'] for feature in features])"
   ]
  },
  {
   "cell_type": "code",
   "execution_count": null,
   "metadata": {},
   "outputs": [],
   "source": [
    "download_imagery_dir = join(download_dir, \"imagery\", mosaic['name'])\n",
    "os.makedirs(download_imagery_dir, exist_ok=True)"
   ]
  },
  {
   "cell_type": "code",
   "execution_count": null,
   "metadata": {},
   "outputs": [],
   "source": [
    "\n",
    "def download_feature(feature):\n",
    "    file_id = feature['properties']['id']\n",
    "    file_path = join(download_imagery_dir, f\"{file_id}.tif\")\n",
    "    \n",
    "    download_url = feature['properties']['download']\n",
    "    if exists(file_path):\n",
    "        try:\n",
    "            image = Image.open(file_path)\n",
    "            assert image.size == (4096, 4096)\n",
    "            return  # Skip if the file is already downloaded and is not corrupted\n",
    "        except:\n",
    "            print(f\"Corrupted file: {file_path}.\")\n",
    "\n",
    "    response = requests.get(download_url, headers=headers)\n",
    "\n",
    "    with open(file_path, \"wb\") as f:\n",
    "        f.write(response.content)\n",
    "        \n",
    "    da = rxr.open_rasterio(file_path)\n",
    "    da = da.assign_coords(x=np.round(da.x, 6))\n",
    "    da = da.assign_coords(y=np.round(da.y, 6))\n",
    "    kwargs = {'blockxsize': 512, 'blockysize': 512, 'tiled': True, 'compress': 'lzw', 'interleave': 'band'}\n",
    "    da.rio.to_raster(file_path, **kwargs)\n",
    "\n",
    "with cf.ThreadPoolExecutor(max_workers=48) as executor:\n",
    "    list(tqdm(executor.map(download_feature, features), total=len(features)))"
   ]
  },
  {
   "cell_type": "code",
   "execution_count": null,
   "metadata": {},
   "outputs": [],
   "source": [
    "#visualize the downloaded images\n",
    "import rasterio\n",
    "import matplotlib.pyplot as plt\n",
    "data=rasterio.open('--.tif')## put tif file name\n",
    "plt.imshow(data.read(1))"
   ]
  }
 ],
 "metadata": {
  "kernelspec": {
   "display_name": "rishabh_sat",
   "language": "python",
   "name": "python3"
  },
  "language_info": {
   "codemirror_mode": {
    "name": "ipython",
    "version": 3
   },
   "file_extension": ".py",
   "mimetype": "text/x-python",
   "name": "python",
   "nbconvert_exporter": "python",
   "pygments_lexer": "ipython3",
   "version": "3.12.4"
  }
 },
 "nbformat": 4,
 "nbformat_minor": 2
}
