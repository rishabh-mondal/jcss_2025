{
 "cells": [
  {
   "cell_type": "code",
   "execution_count": null,
   "metadata": {},
   "outputs": [],
   "source": [
    "# Config\n",
    "import os\n",
    "\n",
    "# Basic\n",
    "import numpy as np\n",
    "import pandas as pd\n",
    "import matplotlib.pyplot as plt\n",
    "\n",
    "# Monitoring\n",
    "from tqdm.notebook import tqdm\n",
    "\n",
    "# IO\n",
    "from os.path import join, exists, basename, dirname, splitext, expanduser\n",
    "from glob import glob\n",
    "\n",
    "# Parallel processing\n",
    "from joblib import Parallel, delayed\n",
    "\n",
    "import re\n",
    "from PIL import Image\n",
    "import supervision as sv\n",
    "from supervision.metrics import F1Score, MeanAveragePrecision\n",
    "from supervision.metrics import MetricTarget\n",
    "from tempfile import mkdtemp\n",
    "\n",
    "from ultralytics import YOLO"
   ]
  },
  {
   "cell_type": "code",
   "execution_count": null,
   "metadata": {},
   "outputs": [],
   "source": [
    "configs = [\"obb_base_y8x\", \"obb_base_y11l\", \"obb_base_y11m\", \"obb_base\", \"obb_base_y8l\", \"obb_base_y8m\"]\n",
    "config_to_model_mapping = {}\n",
    "for config in configs:\n",
    "    with open(f\"../configs/{config}.py\") as f:\n",
    "        config_content = f.read()\n",
    "    model_name = re.search(r\"model = \\\"([^']+?)\\\"\", config_content).group(1)\n",
    "    config_to_model_mapping[config] = model_name.replace(\".pt\", \"\")\n",
    "\n",
    "print(config_to_model_mapping)\n",
    "\n",
    "data_yml_save_dir = mkdtemp()\n",
    "data_yml = f\"\"\"train: dummy\n",
    "val: dummy\n",
    "nc: 3\n",
    "names: [\"CFCBK\", \"FCBK\", \"Zigzag\"]\n",
    "\"\"\"\n",
    "data_yml_save_path = join(data_yml_save_dir, \"data.yml\")\n",
    "with open(data_yml_save_path, \"w\") as f:\n",
    "    f.write(data_yml)\n",
    "\n",
    "image_dir = \"images\" ## Put predict state image \n",
    "gt_dir = \"labels\" ## Put predict state labels\n",
    "sv_dataset = sv.DetectionDataset.from_yolo(image_dir, gt_dir, data_yml_save_path)\n",
    "len(sv_dataset)"
   ]
  },
  {
   "cell_type": "code",
   "execution_count": null,
   "metadata": {},
   "outputs": [],
   "source": [
    "result_df = pd.DataFrame(columns=[\"CFCBK\", \"FCBK\", \"Zigzag\", \"mAP\", \"Class-agnostic AP\"])\n",
    "\n",
    "for config in configs:\n",
    "    model_name = config_to_model_mapping[config]\n",
    "    model = YOLO(f\"../runs/obb/config_name={config}&train_folder=m0_obb_without_empty_train&val_folder=m0_obb_without_empty_val/weights/best.pt\")\n",
    "    results_dir = f\"../runs/obb/config_name={config}&train_folder=m0_obb_without_empty_train&val_folder=m0_obb_without_empty_val&z_predict_region=m0_obb_without_empty_val\"\n",
    "    predictions_dir = join(results_dir, \"labels\")\n",
    "    \n",
    "    targets = []\n",
    "    predictions = []\n",
    "    for name, _, gt_detection in tqdm(sv_dataset):\n",
    "        file_name = splitext(basename(name))[0]\n",
    "        prediction_path = join(predictions_dir, f\"{file_name}.txt\")\n",
    "        ultralytics_result = model(name, imgsz=640, iou=0.33, max_det=300, conf=0.001, verbose=False)[0]\n",
    "        sv_detections = sv.Detections.from_ultralytics(ultralytics_result)\n",
    "        targets.append(gt_detection)\n",
    "        predictions.append(sv_detections)\n",
    "    \n",
    "    mAP_metric = MeanAveragePrecision(class_agnostic=False)\n",
    "    mAP_result = mAP_metric.update(predictions, targets).compute()\n",
    "    class_wise_result = mAP_result.ap_per_class[:, 0].tolist()\n",
    "    \n",
    "    mAP_metric = MeanAveragePrecision(class_agnostic=True)\n",
    "    mAP_result = mAP_metric.update(predictions, targets).compute()\n",
    "    class_agnostic_result = mAP_result.ap_per_class[:, 0].tolist()\n",
    "    result_df.loc[model_name, :] = class_wise_result + [mAP_result.mAP_scores[0].item()] + class_agnostic_result"
   ]
  },
  {
   "cell_type": "code",
   "execution_count": null,
   "metadata": {},
   "outputs": [],
   "source": [
    "weights = pd.Series(np.concatenate([target.class_id for target in targets])).value_counts()\n",
    "weight_sum = (1/weights).values.sum()\n",
    "weight_mapping = {\"CFCBK\": 1/weights.get(0, 0), \"FCBK\": 1/weights.get(1, 0), \"Zigzag\": 1/weights.get(2, 0)}\n",
    "weight_mapping, weight_sum"
   ]
  },
  {
   "cell_type": "code",
   "execution_count": null,
   "metadata": {},
   "outputs": [],
   "source": [
    "result_df_ = result_df.copy()\n",
    "result_df_.index.name = \"Model\"\n",
    "result_df_ = result_df_.reset_index(drop=False).sort_values(\"mAP\", ascending=True)\n",
    "result_df_['Model'] = result_df_['Model'].apply(lambda x: f\"\\\\texttt{{{x}}}\")\n",
    "result_df_['Weighted mAP'] = (result_df_['CFCBK'] * weight_mapping[\"CFCBK\"] + result_df_['FCBK'] * weight_mapping[\"FCBK\"] + result_df_['Zigzag'] * weight_mapping[\"Zigzag\"]) / weight_sum\n",
    "result_df_ = result_df_[[\"Model\", \"CFCBK\", \"FCBK\", \"Zigzag\", \"Weighted mAP\"]]\n",
    "result_df_ = result_df_.sort_values(\"Weighted mAP\", ascending=True)\n",
    "latex_code = result_df_.to_latex(formatters={\"CFCBK\": \"{:.2f}\".format, \"FCBK\": \"{:.2f}\".format, \"Zigzag\": \"{:.2f}\".format, \"mAP\": \"{:.2f}\".format, \"Class-agnostic AP\": \"{:.2f}\".format, \"Weighted mAP\": \"{:.2f}\".format}, index=False)\n",
    "latex_code = latex_code.replace(\"l\"*result_df_.shape[1], \"l\"+\"r\"*(result_df_.shape[1] - 1))\n",
    "print(latex_code)"
   ]
  },
  {
   "cell_type": "code",
   "execution_count": null,
   "metadata": {},
   "outputs": [],
   "source": []
  }
 ],
 "metadata": {
  "kernelspec": {
   "display_name": "zeel_py310",
   "language": "python",
   "name": "python3"
  },
  "language_info": {
   "codemirror_mode": {
    "name": "ipython",
    "version": 3
   },
   "file_extension": ".py",
   "mimetype": "text/x-python",
   "name": "python",
   "nbconvert_exporter": "python",
   "pygments_lexer": "ipython3",
   "version": "3.10.15"
  }
 },
 "nbformat": 4,
 "nbformat_minor": 2
}
