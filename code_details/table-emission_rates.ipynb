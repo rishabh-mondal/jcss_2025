{
 "cells": [
  {
   "cell_type": "code",
   "execution_count": null,
   "metadata": {},
   "outputs": [],
   "source": [
    "import pandas as pd\n",
    "import geopandas as gpd"
   ]
  },
  {
   "cell_type": "markdown",
   "metadata": {},
   "source": [
    "## After Expert feedback"
   ]
  },
  {
   "cell_type": "code",
   "execution_count": null,
   "metadata": {},
   "outputs": [],
   "source": [
    "mass_produced = {\"uttar_pradesh\": 143067, \"bihar\": 72299, \"west_bengal\": 57893, \"haryana\": 22371, \"punjab\": 17908}\n",
    "mass_df = pd.DataFrame(mass_produced, index=[\"mass_produced\"]) * 1000000\n",
    "display(mass_df)\n",
    "\n",
    "emission_factors = {\"CFCBK\": {\"PM$_{2.5}$\": 0.18, \"SO$_2$\": 0.52, \"CO\": 3.63, \"CO$_2$\": 179.00},\n",
    "                    \"FCBK\": {\"PM$_{2.5}$\": 0.18, \"SO$_2$\": 0.52, \"CO\": 3.63, \"CO$_2$\": 179.00},\n",
    "                    \"Zigzag\": {\"PM$_{2.5}$\": 0.09, \"SO$_2$\": 0.15, \"CO\": 1.19, \"CO$_2$\": 107.50}}\n",
    "emission_df = pd.DataFrame(emission_factors)\n",
    "display(emission_df)\n"
   ]
  },
  {
   "cell_type": "code",
   "execution_count": null,
   "metadata": {},
   "outputs": [],
   "source": [
    "states = [\"uttar_pradesh\", \"bihar\", \"west_bengal\", \"haryana\", \"punjab\"]\n",
    "state_to_name = {\"uttar_pradesh\": \"Uttar Pradesh\", \"bihar\": \"Bihar\", \"west_bengal\": \"West Bengal\", \"haryana\": \"Haryana\", \"punjab\": \"Punjab\", \"Total\": \"Total\"}\n",
    "\n",
    "count_df = pd.DataFrame(columns = [\"CFCBK\", \"FCBK\", \"Zigzag\"])\n",
    "for state in states:\n",
    "    gdf = gpd.read_file(f\"labels/{state}.geojson\")\n",
    "    CFCBK = len(gdf[gdf['class_name'] == 'CFCBK'])\n",
    "    FCBK = len(gdf[gdf['class_name'] == 'FCBK'])\n",
    "    Zigzag = len(gdf[gdf['class_name'] == 'Zigzag'])\n",
    "    \n",
    "    count_df.loc[state] = [CFCBK, FCBK, Zigzag]\n",
    "    \n",
    "count_df"
   ]
  },
  {
   "cell_type": "code",
   "execution_count": null,
   "metadata": {},
   "outputs": [],
   "source": [
    "# get fractions over classes\n",
    "count_frac_df = count_df.div(count_df.sum(axis=1), axis=0)\n",
    "print(\"Fractions of classes over states\")\n",
    "display(count_frac_df)\n",
    "\n",
    "# Get weights per state\n",
    "weights_df = count_frac_df.mul(mass_df.loc[\"mass_produced\"], axis=0)\n",
    "print(\"Weights per state\")\n",
    "display(weights_df)"
   ]
  },
  {
   "cell_type": "code",
   "execution_count": null,
   "metadata": {},
   "outputs": [],
   "source": [
    "# Get emissions per state\n",
    "emissions_kilotonnes_per_day = (weights_df@emission_df.T) / 180 / 1000000\n",
    "emissions_kilotonnes_per_day['Mass'] = emissions_kilotonnes_per_day.index.map(mass_produced) / 180 * 1000\n",
    "emissions_kilotonnes_per_day.loc[\"Total\"] = emissions_kilotonnes_per_day.sum(numeric_only=True)\n",
    "emissions_kilotonnes_per_day.index.name = \"State\"\n",
    "emissions_kilotonnes_per_day = emissions_kilotonnes_per_day.reset_index()\n",
    "emissions_kilotonnes_per_day['State'] = emissions_kilotonnes_per_day['State'].map(state_to_name)\n",
    "cols = emissions_kilotonnes_per_day.columns.tolist()\n",
    "emissions_kilotonnes_per_day = emissions_kilotonnes_per_day[[cols[0]] + [cols[-1]] + cols[1:-1]]\n",
    "emissions_kilotonnes_per_day"
   ]
  },
  {
   "cell_type": "code",
   "execution_count": null,
   "metadata": {},
   "outputs": [],
   "source": [
    "print(emissions_kilotonnes_per_day.to_latex(formatters={\"PM$_{2.5}$\": \"{:.2f}\".format, \"SO$_2$\": \"{:.2f}\".format, \"CO\": \"{:.2f}\".format, \"CO$_2$\": \"{:.2f}\".format, \"Mass\": \"{:.2f}\"}, index=False).replace(\"Total &\", \"\\midrule\\nTotal &\"))"
   ]
  },
  {
   "cell_type": "markdown",
   "metadata": {},
   "source": [
    "## Old"
   ]
  },
  {
   "cell_type": "code",
   "execution_count": null,
   "metadata": {},
   "outputs": [],
   "source": [
    "brick_weight = 3.21 # kg\n",
    "\n",
    "production = pd.Series()\n",
    "production.loc['CFCBK'] = 18000\n",
    "production.loc['FCBK'] = 18000\n",
    "production.loc['Zigzag'] = 11000\n",
    "production"
   ]
  },
  {
   "cell_type": "code",
   "execution_count": null,
   "metadata": {},
   "outputs": [],
   "source": [
    "emission_factors = {\"CFCBK\": {\"PM\": 0.89, \"SO$_2$\": 0.52, \"CO\": 3.63, \"CO$_2$\": 179.00},\n",
    "                    \"FCBK\": {\"PM\": 0.89, \"SO$_2$\": 0.52, \"CO\": 3.63, \"CO$_2$\": 179.00},\n",
    "                    \"Zigzag\": {\"PM\": 0.23, \"SO$_2$\": 0.15, \"CO\": 1.19, \"CO$_2$\": 107.50}}\n",
    "\n",
    "emission_factors = pd.DataFrame(emission_factors).T\n",
    "emission_factors"
   ]
  },
  {
   "cell_type": "code",
   "execution_count": null,
   "metadata": {},
   "outputs": [],
   "source": [
    "# multiply capacity with factors to get emissions per day\n",
    "emissions_per_day_per_brick = production.mul(emission_factors.T, axis=0).T * brick_weight\n",
    "emissions_per_day_per_brick"
   ]
  },
  {
   "cell_type": "code",
   "execution_count": null,
   "metadata": {},
   "outputs": [],
   "source": [
    "states = [\"uttar_pradesh\", \"bihar\", \"west_bengal\", \"haryana\", \"punjab\"]\n",
    "state_to_name = {\"uttar_pradesh\": \"Uttar Pradesh\", \"bihar\": \"Bihar\", \"west_bengal\": \"West Bengal\", \"haryana\": \"Haryana\", \"punjab\": \"Punjab\"}\n",
    "\n",
    "count_df = pd.DataFrame(columns = [\"CFCBK\", \"FCBK\", \"Zigzag\"])\n",
    "for state in states:\n",
    "    gdf = gpd.read_file(f\"../final_data/labels/{state}.geojson\")\n",
    "    CFCBK = len(gdf[gdf['class_name'] == 'CFCBK'])\n",
    "    FCBK = len(gdf[gdf['class_name'] == 'FCBK'])\n",
    "    Zigzag = len(gdf[gdf['class_name'] == 'Zigzag'])\n",
    "    \n",
    "    count_df.loc[state_to_name[state]] = [CFCBK, FCBK, Zigzag]\n",
    "    \n",
    "count_df"
   ]
  },
  {
   "cell_type": "code",
   "execution_count": null,
   "metadata": {},
   "outputs": [],
   "source": [
    "emissions_per_day_per_state = count_df.dot(emissions_per_day_per_brick) / 1000 / 1000\n",
    "emissions_per_day_per_state.loc['Total'] = emissions_per_day_per_state.sum()\n",
    "emissions_per_day_per_state.index.name = \"State\"\n",
    "emissions_per_day_per_state.reset_index(inplace=True)\n",
    "print(emissions_per_day_per_state.to_latex(formatters={\"PM\": \"{:.2f}\".format, \"SO$_2$\": \"{:.2f}\".format, \"CO\": \"{:.2f}\".format, \"CO$_2$\": \"{:.2f}\".format}, index=False).replace(\"Total &\", \"\\midrule\\nTotal &\"))"
   ]
  }
 ],
 "metadata": {
  "kernelspec": {
   "display_name": "zeel_py310",
   "language": "python",
   "name": "python3"
  },
  "language_info": {
   "codemirror_mode": {
    "name": "ipython",
    "version": 3
   },
   "file_extension": ".py",
   "mimetype": "text/x-python",
   "name": "python",
   "nbconvert_exporter": "python",
   "pygments_lexer": "ipython3",
   "version": "3.10.15"
  }
 },
 "nbformat": 4,
 "nbformat_minor": 2
}
