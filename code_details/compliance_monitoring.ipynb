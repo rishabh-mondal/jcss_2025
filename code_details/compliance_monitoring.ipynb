{
 "cells": [
  {
   "cell_type": "code",
   "execution_count": 1,
   "metadata": {},
   "outputs": [],
   "source": [
    "import pandas as pd\n",
    "import numpy as np\n",
    "import geopandas as gpd\n",
    "import matplotlib.pyplot as plt\n",
    "from tqdm.notebook import tqdm\n",
    "import leafmap"
   ]
  },
  {
   "cell_type": "code",
   "execution_count": 2,
   "metadata": {},
   "outputs": [],
   "source": [
    "state_epsg_pairs = (['uttar_pradesh', 'bihar', 'west_bengal', 'haryana', 'punjab'], [7775, 7759, 7787, 7762, 7773])\n",
    "state_epsg_mapping = dict(zip(*state_epsg_pairs))\n",
    "state_epsg_mapping"
   ]
  },
  {
   "cell_type": "code",
   "execution_count": 3,
   "metadata": {},
   "outputs": [],
   "source": [
    "state_zone_mapping = {\"uttar_pradesh\": \"central-zone\", \"bihar\": \"eastern-zone\", \"west_bengal\": \"eastern-zone\", \"haryana\": \"northern-zone\", \"punjab\": \"northern-zone\"}"
   ]
  },
  {
   "cell_type": "code",
   "execution_count": 4,
   "metadata": {},
   "outputs": [],
   "source": [
    "hospital_data_gov = pd.read_csv(\"India_Hospital_Data.csv\")\n",
    "\n",
    "\n",
    "def try_except(x):\n",
    "    try:\n",
    "        return float(x)\n",
    "    except:\n",
    "        return np.nan\n",
    "\n",
    "hospital_data_gov['lat'] = hospital_data_gov['lat'].apply(try_except)\n",
    "hospital_data_gov['lon'] = hospital_data_gov['lon'].apply(try_except)\n",
    "hospital_data_gov = hospital_data_gov.dropna(subset=['lat', 'lon'])\n",
    "\n",
    "print(len(hospital_data_gov))\n",
    "hospital_data_gov.head(2)"
   ]
  },
  {
   "cell_type": "code",
   "execution_count": 5,
   "metadata": {},
   "outputs": [],
   "source": [
    "hospital_data_gov_gdf = gpd.GeoDataFrame(hospital_data_gov, geometry=gpd.points_from_xy(hospital_data_gov.lon, hospital_data_gov.lat))\n",
    "hospital_data_gov_gdf.crs = \"EPSG:4326\"\n",
    "hospital_data_gov_gdf.head(2)"
   ]
  },
  {
   "cell_type": "markdown",
   "metadata": {},
   "source": [
    "## State-wise"
   ]
  },
  {
   "cell_type": "code",
   "execution_count": 6,
   "metadata": {},
   "outputs": [],
   "source": [
    "state = \"haryana\"\n",
    "epsg = state_epsg_mapping[state]\n",
    "zone = state_zone_mapping[state]\n",
    "print(state, epsg, zone)"
   ]
  },
  {
   "cell_type": "code",
   "execution_count": 7,
   "metadata": {},
   "outputs": [],
   "source": [
    "building_gdf = gpd.read_file(f\"gis_osm_buildings_a_free_1.shp\")"
   ]
  },
  {
   "cell_type": "code",
   "execution_count": 8,
   "metadata": {},
   "outputs": [],
   "source": [
    "building_gdf['type'].value_counts().head(50)"
   ]
  },
  {
   "cell_type": "code",
   "execution_count": 9,
   "metadata": {},
   "outputs": [],
   "source": [
    "lu_gdf = gpd.read_file(f\"gis_osm_landuse_a_free_1.shp\")\n",
    "lu_gdf.fclass.value_counts().head(50)"
   ]
  },
  {
   "cell_type": "code",
   "execution_count": 10,
   "metadata": {},
   "outputs": [],
   "source": [
    "water_gdf = gpd.read_file(f\"gis_osm_water_a_free_1.shp\")\n",
    "water_gdf.fclass.value_counts().head(50)"
   ]
  },
  {
   "cell_type": "code",
   "execution_count": 11,
   "metadata": {},
   "outputs": [],
   "source": [
    "waterways_gdf = gpd.read_file(f\"gis_osm_waterways_free_1.shp\")\n",
    "waterways_gdf.fclass.value_counts().head(50)"
   ]
  },
  {
   "cell_type": "code",
   "execution_count": 12,
   "metadata": {},
   "outputs": [],
   "source": [
    "roads_gdf = gpd.read_file(f\"gis_osm_roads_free_1.shp\")\n",
    "roads_gdf.fclass.value_counts().head(50)"
   ]
  },
  {
   "cell_type": "code",
   "execution_count": 13,
   "metadata": {},
   "outputs": [],
   "source": [
    "railways_gdf = gpd.read_file(f\"gis_osm_railways_free_1.shp\")\n",
    "railways_gdf.fclass.value_counts().head(50)"
   ]
  },
  {
   "cell_type": "code",
   "execution_count": 14,
   "metadata": {},
   "outputs": [],
   "source": [
    "lu_gdf[lu_gdf.fclass == \"orchard\"].name.value_counts()"
   ]
  },
  {
   "cell_type": "code",
   "execution_count": 15,
   "metadata": {},
   "outputs": [],
   "source": [
    "kilns_gdf = gpd.read_file(f\"labels/{state}.geojson\").to_crs(epsg)\n",
    "\n",
    "if state == \"bihar\":\n",
    "  osm_dict = {\"Habitation\": (lu_gdf[lu_gdf.fclass == \"residential\"], 800),\n",
    "                \"Orchard\": (lu_gdf[lu_gdf.fclass == \"orchard\"], 800),\n",
    "                  \"School\": (building_gdf[building_gdf['type'] == \"school\"], 800),\n",
    "                  \"Hospital_OSM\": (building_gdf[building_gdf['type'] == \"hospital\"], 800),\n",
    "                  \"Hospital_Gov\": (hospital_data_gov_gdf, 800),\n",
    "                  # \"Nature reserve\": (lu_gdf[lu_gdf.fclass == \"nature_reserve\"], \n",
    "                  \"River\": (waterways_gdf[waterways_gdf.fclass == \"river\"], 500),\n",
    "                  \"Wetland\": (water_gdf[water_gdf.fclass == \"wetland\"], 500),\n",
    "                  \"National highway\": (roads_gdf[(roads_gdf.ref.str.startswith(\"NH\") == True) | (roads_gdf.ref.str.startswith(\"NE\") == True)], 300),\n",
    "                  \"State highway\": (roads_gdf[roads_gdf.ref.str.startswith(\"SH\") == True], 200),\n",
    "                  # \"District highway\": roads_gdf[roads_gdf.ref.str.startswith(\"MDR\") == True],\n",
    "                  \"Railway\": (railways_gdf, 200),\n",
    "                  \"Inter kiln\": (kilns_gdf.copy(), 1000),\n",
    "                  }\n",
    "elif state == \"uttar_pradesh\":\n",
    "  osm_dict = {\"Habitation\": (lu_gdf[lu_gdf.fclass == \"residential\"], 1000),\n",
    "              \"Orchard\": (lu_gdf[lu_gdf.fclass == \"orchard\"], 800),\n",
    "              \"School\": (building_gdf[building_gdf['type'] == \"school\"], 1000),\n",
    "                  \"Hospital_OSM\": (building_gdf[building_gdf['type'] == \"hospital\"], 1000),\n",
    "                  \"Hospital_Gov\": (hospital_data_gov_gdf, 1000),\n",
    "                  \"Religious places\": (building_gdf[building_gdf['type'].isin([\"temple\", \"church\", \"mosque\"])], 1000),\n",
    "                  \"Nature reserve\": (lu_gdf[lu_gdf.fclass == \"nature_reserve\"], 5000),\n",
    "                  \"Railway\": (railways_gdf, 200),\n",
    "                  \"National highway\": (roads_gdf[(roads_gdf.ref.str.startswith(\"NH\") == True) | (roads_gdf.ref.str.startswith(\"NE\") == True)], 300),\n",
    "                  \"State highway\": (roads_gdf[roads_gdf.ref.str.startswith(\"SH\") == True], 300),\n",
    "                  \"District highway\": (roads_gdf[roads_gdf.ref.str.startswith(\"MDR\") == True], 100),\n",
    "                  \"Inter kiln\": (kilns_gdf.copy(), 800),\n",
    "  }\n",
    "elif state == \"west_bengal\":\n",
    "  osm_dict = {\n",
    "    \"Habitation\": (lu_gdf[lu_gdf.fclass == \"residential\"], 800),\n",
    "    \"Orchard\": (lu_gdf[lu_gdf.fclass == \"orchard\"], 800),\n",
    "    \"Inter kiln\": (kilns_gdf.copy(), 300),\n",
    "    \"Hospital_OSM\": (building_gdf[building_gdf['type'] == \"hospital\"], 1000),\n",
    "                  \"Hospital_Gov\": (hospital_data_gov_gdf, 1000),\n",
    "                   \"School\": (building_gdf[building_gdf['type'] == \"school\"], 1000),\n",
    "                   \"Religious places\": (building_gdf[building_gdf['type'].isin([\"temple\", \"church\", \"mosque\"])], 1000),\n",
    "                   \"Nature reserve\": (lu_gdf[lu_gdf.fclass == \"nature_reserve\"], 5000),\n",
    "  \"Railway\": (railways_gdf, 200),\n",
    "  \"National highway\": (roads_gdf[(roads_gdf.ref.str.startswith(\"NH\") == True) | (roads_gdf.ref.str.startswith(\"NE\") == True)], 200),\n",
    "                  \"State highway\": (roads_gdf[roads_gdf.ref.str.startswith(\"SH\") == True], 200),\n",
    "                  \"River\": (waterways_gdf[waterways_gdf.fclass == \"river\"], 200),\n",
    "  }\n",
    "elif state == \"haryana\":\n",
    "  osm_dict = {\n",
    "    \"Habitation\": (lu_gdf[lu_gdf.fclass == \"residential\"], 800),\n",
    "    \"Orchard\": (lu_gdf[lu_gdf.fclass == \"orchard\"], 800),\n",
    "    \"Inter kiln\": (kilns_gdf.copy(), 1000),\n",
    "    \"Hospital_OSM\": (building_gdf[building_gdf['type'] == \"hospital\"], 1000),\n",
    "                  \"Hospital_Gov\": (hospital_data_gov_gdf, 1000),\n",
    "                   \"School\": (building_gdf[building_gdf['type'] == \"school\"], 1000),\n",
    "                   \"Nature reserve\": (lu_gdf[lu_gdf.fclass == \"nature_reserve\"], 1000),\n",
    "  }\n",
    "elif state == \"punjab\":\n",
    "  osm_dict = {\n",
    "    \"Habitation\": (lu_gdf[lu_gdf.fclass == \"residential\"], 500),\n",
    "    \"Orchard\": (lu_gdf[lu_gdf.fclass == \"orchard\"], 800),\n",
    "    \"Inter kiln\": (kilns_gdf.copy(), 1000),\n",
    "    \"State highway\": (roads_gdf[roads_gdf.ref.str.startswith(\"SH\") == True], 100),\n",
    "  }  \n",
    "else:\n",
    "  raise ValueError(\"State not supported\")\n",
    "\n",
    "for key, value in osm_dict.items():\n",
    "    print(key, len(value[0]))"
   ]
  },
  {
   "cell_type": "code",
   "execution_count": 16,
   "metadata": {},
   "outputs": [],
   "source": [
    "for key, (gdf, threshold) in tqdm(osm_dict.items()):\n",
    "    gdf = gdf.to_crs(kilns_gdf.crs).reset_index(drop=True)\n",
    "    if key == \"Inter kiln\":\n",
    "        intersection_gdf = gpd.sjoin(kilns_gdf, kilns_gdf, predicate=\"dwithin\", distance=threshold)\n",
    "        intersection_gdf = intersection_gdf[intersection_gdf.index < intersection_gdf.index_right]\n",
    "    else:\n",
    "        intersection_gdf = gpd.sjoin(gdf, kilns_gdf, predicate=\"dwithin\", distance=threshold)\n",
    "    kilns_gdf[key] = kilns_gdf.index.isin(intersection_gdf.index_right).astype(bool)\n",
    "    kilns_gdf[f\"{key}_threshold\"] = threshold\n",
    "kilns_gdf[\"non_compliant\"] = kilns_gdf[list(osm_dict.keys())].any(axis=1)"
   ]
  },
  {
   "cell_type": "code",
   "execution_count": 17,
   "metadata": {},
   "outputs": [],
   "source": [
    "kilns_gdf.non_compliant.value_counts()"
   ]
  },
  {
   "cell_type": "code",
   "execution_count": 18,
   "metadata": {},
   "outputs": [],
   "source": [
    "len(kilns_gdf)"
   ]
  },
  {
   "cell_type": "code",
   "execution_count": 19,
   "metadata": {},
   "outputs": [],
   "source": [
    "rules = list(osm_dict.keys())\n",
    "thresholds = [f\"{key}_threshold\" for key in rules]\n",
    "kilns_gdf[['class_name', 'center_lat', 'center_lon', 'geometry', *rules, *thresholds, 'non_compliant']].to_file(f\"../compliance/{state}.geojson\", driver='GeoJSON')"
   ]
  },
  {
   "cell_type": "markdown",
   "metadata": {},
   "source": [
    "## Combine all"
   ]
  },
  {
   "cell_type": "code",
   "execution_count": 26,
   "metadata": {},
   "outputs": [],
   "source": [
    "name_mapping = {\"uttar_pradesh\": \"Uttar Pradesh\", \"bihar\": \"Bihar\", \"west_bengal\": \"West Bengal\", \"haryana\": \"Haryana\", \"punjab\": \"Punjab\"}\n",
    "\n",
    "result_df = pd.DataFrame(columns=list(name_mapping.values()))\n",
    "\n",
    "for state in [\"uttar_pradesh\", \"bihar\", \"west_bengal\", \"haryana\", \"punjab\"]:\n",
    "    compliance_gdf = gpd.read_file(f\"../compliance/{state}.geojson\")\n",
    "    for col in compliance_gdf:\n",
    "        if (col not in [\"class_name\", \"center_lat\", \"center_lon\", \"geometry\"]) and (not col.endswith(\"_threshold\")):\n",
    "            result_df.loc[col, name_mapping[state]] = compliance_gdf[col].sum()\n",
    "\n",
    "# result_df = result_df.fillna(\"-\")\n",
    "# display(result_df)\n",
    "result_df.loc[\"Hospital\"] = result_df.loc[\"Hospital_OSM\"] + result_df.loc[\"Hospital_Gov\"]\n",
    "# remove hospital_OSM and hospital_Gov\n",
    "result_df = result_df.drop([\"Hospital_OSM\", \"Hospital_Gov\"])\n",
    "result_df.loc['Non compliant'] = result_df.loc['non_compliant']\n",
    "result_df = result_df.drop('non_compliant')\n",
    "result_df.loc[\"Brick Kiln count\"] = None\n",
    "\n",
    "for state in [\"uttar_pradesh\", \"bihar\", \"west_bengal\", \"haryana\", \"punjab\"]:\n",
    "    compliance_gdf = gpd.read_file(f\"../compliance/{state}.geojson\")\n",
    "    result_df.loc[\"Brick Kiln count\", name_mapping[state]] = len(compliance_gdf)\n",
    "\n",
    "result_df['Total'] = result_df.sum(axis=1)\n",
    "result_df = result_df.sort_values(\"Total\", ascending=False)\n",
    "result_df = result_df.loc[result_df.index[2:].to_list() + result_df.index[:2].to_list()]\n",
    "\n",
    "# exchange last two row positions\n",
    "result_df = result_df.loc[result_df.index[:-2].to_list() + result_df.index[-1:].to_list() + result_df.index[-2:-1].to_list()]\n",
    "result_df.loc[\"Percentage violations\"] = result_df.loc[\"Non compliant\"] / result_df.loc[\"Brick Kiln count\"] * 100\n",
    "\n",
    "result_df = result_df.fillna(-1)\n",
    "# add a multi-level column header for states\n",
    "result_df.columns = pd.MultiIndex.from_product([[\"States\"], result_df.columns])\n",
    "# add a multi-level row header for classes\n",
    "result_df.index = pd.MultiIndex.from_product([[\"Criterion\"], result_df.index])\n",
    "\n",
    "# round everything till last row\n",
    "for row in result_df.index:\n",
    "    result_df.loc[row] = result_df.loc[row].apply(lambda x: f\"{int(round(x))}\")\n",
    "\n",
    "latex_code = result_df.to_latex()\n",
    "print(latex_code.replace(\"llllllll\", \"llrrrrrr\").replace(\"{6}{r}\", \"{5}{c}\").replace(\"[t]{16}\", \"[c]{13}\").replace(\"\\cline{1-8}\", \"\").replace(\"-1\", \"-\").replace(\"& Non compliant\", \"\\midrule\\n & Non compliant\"))"
   ]
  },
  {
   "cell_type": "code",
   "execution_count": 32,
   "metadata": {},
   "outputs": [],
   "source": [
    "distance_df = pd.DataFrame(columns=list(name_mapping.values()))\n",
    "\n",
    "for state in [\"uttar_pradesh\", \"bihar\", \"west_bengal\", \"haryana\", \"punjab\"]:\n",
    "    compliance_gdf = gpd.read_file(f\"../compliance/{state}.geojson\")\n",
    "    for col in compliance_gdf:\n",
    "        if col not in [\"class_name\", \"center_lat\", \"center_lon\", \"geometry\"] and col.endswith(\"_threshold\"):\n",
    "            distance_df.loc[col.replace(\"_threshold\", \"\"), name_mapping[state]] = compliance_gdf[col].iloc[0].item()\n",
    "    \n",
    "distance_df = distance_df.loc[[key for key in result_df.index.get_level_values(1) if key in distance_df.index]]\n",
    "distance_df = distance_df.fillna(\"-\")\n",
    "distance_df.index.name = \"Criterion\"\n",
    "distance_df = distance_df.reset_index()\n",
    "print(distance_df.to_latex(index=False).replace(\"llllll\", \"lrrrrr\"))"
   ]
  },
  {
   "cell_type": "code",
   "execution_count": null,
   "metadata": {},
   "outputs": [],
   "source": []
  }
 ],
 "metadata": {
  "kernelspec": {
   "display_name": "Python 3 (ipykernel)",
   "language": "python",
   "name": "python3"
  }
 },
 "nbformat": 4,
 "nbformat_minor": 2
}
