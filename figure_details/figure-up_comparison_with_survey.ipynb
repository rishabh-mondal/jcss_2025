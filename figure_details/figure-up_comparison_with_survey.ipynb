{
 "cells": [
  {
   "cell_type": "code",
   "execution_count": null,
   "metadata": {},
   "outputs": [],
   "source": [
    "# Config\n",
    "import os\n",
    "\n",
    "# Basic\n",
    "import numpy as np\n",
    "import pandas as pd\n",
    "import matplotlib.pyplot as plt\n",
    "\n",
    "# Monitoring\n",
    "from tqdm.notebook import tqdm\n",
    "\n",
    "# IO\n",
    "from os.path import join, exists, basename, dirname, splitext, expanduser\n",
    "from glob import glob\n",
    "\n",
    "# Parallel processing\n",
    "from joblib import Parallel, delayed\n",
    "\n",
    "import pdfplumber\n",
    "import geopandas as gpd\n",
    "from astra.plot.utils import latexify\n",
    "\n",
    "from matplotlib.colors import LinearSegmentedColormap\n",
    "\n",
    "# Create a custom colormap that starts from white\n",
    "reds_fixed = LinearSegmentedColormap.from_list(\"RedsFixed\", [\"white\", *plt.get_cmap(\"Reds\")(np.linspace(0, 1, 256))])"
   ]
  },
  {
   "cell_type": "markdown",
   "metadata": {},
   "source": [
    "## Run from here to generate the CSV\n"
   ]
  },
  {
   "cell_type": "code",
   "execution_count": null,
   "metadata": {},
   "outputs": [],
   "source": [
    "tables = []\n",
    "\n",
    "with pdfplumber.open(\"UPPCB-report-brick-kilns-March-2023.pdf\") as pdf:\n",
    "    for page in tqdm(pdf.pages):\n",
    "        table = page.extract_table()\n",
    "        if table:\n",
    "            tables.append(table)\n",
    "len(tables)"
   ]
  },
  {
   "cell_type": "code",
   "execution_count": null,
   "metadata": {},
   "outputs": [],
   "source": [
    "import pandas as pd\n",
    "\n",
    "def process_table(table, start):\n",
    "    df = pd.DataFrame(table[3:], columns=table[2])\n",
    "    assert df.columns[0] == \"Sl No\"\n",
    "    assert int(df[\"Sl No\"].iloc[0]) == start, f\"Expected {start}, got {df['Sl No'].iloc[0]}\"\n",
    "    end = df['Sl No'].iloc[-1]\n",
    "    return df, int(end)\n",
    "\n",
    "end = 0\n",
    "df_list = []\n",
    "for i in tqdm(range(len(tables))):\n",
    "    df, end = process_table(tables[i], end+1)\n",
    "    df_list.append(df)"
   ]
  },
  {
   "cell_type": "code",
   "execution_count": null,
   "metadata": {},
   "outputs": [],
   "source": [
    "df = pd.concat(df_list)\n",
    "df.head(2)"
   ]
  },
  {
   "cell_type": "code",
   "execution_count": null,
   "metadata": {},
   "outputs": [],
   "source": [
    "df['Production\\nCapacity\\n(per day)'].str.replace(\",\", \"\").astype(int).sum() / 1000000"
   ]
  },
  {
   "cell_type": "code",
   "execution_count": null,
   "metadata": {},
   "outputs": [],
   "source": [
    "df['Year of\\nEstablishment'].apply(lambda x: x.replace(\",\", \"\").split(\".\")[-1].split(\"/\")[-1]).value_counts()[:20]"
   ]
  },
  {
   "cell_type": "code",
   "execution_count": null,
   "metadata": {},
   "outputs": [],
   "source": [
    "pd.concat(df_list).District.value_counts().sort_index()[-20:]"
   ]
  },
  {
   "cell_type": "code",
   "execution_count": null,
   "metadata": {},
   "outputs": [],
   "source": [
    "count_df = pd.concat(df_list).District.value_counts().reset_index()"
   ]
  },
  {
   "cell_type": "code",
   "execution_count": null,
   "metadata": {},
   "outputs": [],
   "source": [
    "pd.concat(df_list).District.value_counts().sum()"
   ]
  },
  {
   "cell_type": "code",
   "execution_count": null,
   "metadata": {},
   "outputs": [],
   "source": [
    "# Drop NaNs\n",
    "print(len(count_df))\n",
    "count_df.dropna(inplace=True, subset=[\"District\"])\n",
    "count_df = count_df[count_df.District != \"\"]\n",
    "print(len(count_df))\n",
    "\n",
    "# Add missing districts\n",
    "count_df.loc[len(count_df)] = [\"Banda\", 0]\n",
    "count_df.loc[len(count_df)] = [\"Lalitpur\", 0]\n",
    "count_df.loc[len(count_df)] = [\"Jhansi\", 0]\n",
    "print(len(count_df))\n",
    "# Capitalize\n",
    "count_df.District = count_df.District.str.capitalize()\n",
    "count_df.District = count_df.District.apply(lambda x: \" \".join([i.capitalize() for i in x.split()]))\n",
    "\n",
    "print(sorted(count_df.District.tolist(), key=lambda x: x.lower()))"
   ]
  },
  {
   "cell_type": "markdown",
   "metadata": {},
   "source": [
    "District names corrected as per gov website: https://up.gov.in/en/page/districts\n"
   ]
  },
  {
   "cell_type": "code",
   "execution_count": null,
   "metadata": {},
   "outputs": [],
   "source": [
    "district_mapping = {\"Ambedkarnagar\": \"Ambedkar Nagar\", \"Badaun\": \"Budaun\", \"Bijnore\": \"Bijnor\", \"Bulandshar\": \"Bulandshahar\", \"Forozabad\": \"Firozabad\", \"Kushinagar\": \"Kushi Nagar\", \"Lakhimpur\": \"Lakhimpur Kheri\", \"Muzaffarnagar\": \"Muzaffar Nagar\", \"Plibhit\": \"Pilibhit\"}\n",
    "count_df.District = count_df.District.replace(district_mapping)\n",
    "print(sorted(count_df.District.tolist()))"
   ]
  },
  {
   "cell_type": "code",
   "execution_count": null,
   "metadata": {},
   "outputs": [],
   "source": [
    "count_df = count_df.groupby(\"District\").sum().sort_values(\"District\").reset_index()\n",
    "count_df.head(2)"
   ]
  },
  {
   "cell_type": "code",
   "execution_count": null,
   "metadata": {},
   "outputs": [],
   "source": [
    "count_df.to_csv(\"../data/brick_kilns_district_counts.csv\", index=False)"
   ]
  },
  {
   "cell_type": "markdown",
   "metadata": {},
   "source": [
    "## Run from here to fix the shapefile\n"
   ]
  },
  {
   "cell_type": "code",
   "execution_count": null,
   "metadata": {},
   "outputs": [],
   "source": [
    "count_df = pd.read_csv(\"../data/brick_kilns_district_counts.csv\")\n",
    "len(count_df)"
   ]
  },
  {
   "cell_type": "code",
   "execution_count": null,
   "metadata": {},
   "outputs": [],
   "source": [
    "count_df['count'].sum()"
   ]
  },
  {
   "cell_type": "code",
   "execution_count": null,
   "metadata": {},
   "outputs": [],
   "source": [
    "up_districts = gpd.read_file(\"../regions/shapes/uttar_pradesh_district.geojson\")\n",
    "len(up_districts)"
   ]
  },
  {
   "cell_type": "code",
   "execution_count": null,
   "metadata": {},
   "outputs": [],
   "source": [
    "print(set(up_districts.Name) - set(count_df.District))\n",
    "print(set(count_df.District) - set(up_districts.Name))"
   ]
  },
  {
   "cell_type": "code",
   "execution_count": null,
   "metadata": {},
   "outputs": [],
   "source": [
    "mapping = {\"Allahabad\": \"Prayagraj\", \"Muzaffarnagar\": \"Muzaffar Nagar\", \"Shrawasti\": \"Shravasti\", \"Sant Ravi Das Nagar(bhadohi)\": \"Bhadohi\", \"Bulandshahr\": \"Bulandshahar\", \"Kushinagar\": \"Kushi Nagar\", \"Faizabad\": \"Ayodhya\", \"Mahamaya Nagar\": \"Hathras\", \"Rae Bareli\": \"Raebareli\"}\n",
    "up_districts.Name = up_districts.Name.replace(mapping)\n",
    "print(set(up_districts.Name) - set(count_df.District))\n",
    "print(set(count_df.District) - set(up_districts.Name))"
   ]
  },
  {
   "cell_type": "code",
   "execution_count": null,
   "metadata": {},
   "outputs": [],
   "source": [
    "merged_df = pd.merge(up_districts, count_df, left_on=\"Name\", right_on=\"District\", how=\"inner\").drop(columns=[\"District\"]).rename(columns={\"count\": \"survey_count\"})"
   ]
  },
  {
   "cell_type": "code",
   "execution_count": null,
   "metadata": {},
   "outputs": [],
   "source": [
    "latexify(width=5.9/3, height=1.5, font_size=6)\n",
    "fig, ax = plt.subplots()\n",
    "\n",
    "p95 = merged_df.survey_count.quantile(0.95)\n",
    "print(f\"{p95=}\")\n",
    "plot = merged_df.plot(column=\"survey_count\", ax=ax, cmap=reds_fixed, vmin=0, vmax=p95, edgecolor=\"black\", linewidth=0.1)\n",
    "plot.set_axis_off()\n",
    "cbar = fig.colorbar(plot.collections[0], ax=plot)\n",
    "cbar.set_label(\"Count\")\n",
    "plt.tight_layout()\n",
    "fig.savefig(\"../figures/brick_kilns_survey_counts.pdf\")\n",
    "fig.savefig(\"../figures/brick_kilns_survey_counts.png\", dpi=300)"
   ]
  },
  {
   "cell_type": "code",
   "execution_count": null,
   "metadata": {},
   "outputs": [],
   "source": [
    "our_labels = gpd.read_file(\"../final_data/labels/uttar_pradesh.geojson\").to_crs(4326)\n",
    "print(len(our_labels))\n",
    "our_labels.head(2)"
   ]
  },
  {
   "cell_type": "code",
   "execution_count": null,
   "metadata": {},
   "outputs": [],
   "source": [
    "our_counts_df = gpd.sjoin(merged_df, our_labels, predicate=\"intersects\", how=\"left\").drop_duplicates(\"index_right\").Name_left.value_counts().reset_index()\n",
    "print(len(our_counts_df), our_counts_df['count'].sum())\n",
    "our_counts_df.head(2)"
   ]
  },
  {
   "cell_type": "code",
   "execution_count": null,
   "metadata": {},
   "outputs": [],
   "source": [
    "for district in set(merged_df.Name) - set(our_counts_df.Name_left):\n",
    "    our_counts_df.loc[len(our_counts_df)] = [district, 0]\n",
    "print(len(our_counts_df), our_counts_df['count'].sum())\n",
    "our_counts_df.head(2)"
   ]
  },
  {
   "cell_type": "code",
   "execution_count": null,
   "metadata": {},
   "outputs": [],
   "source": [
    "latexify(width=5.9/3, height=1.5, font_size=6)\n",
    "fig, ax = plt.subplots()\n",
    "\n",
    "print(f\"{p95=}\")\n",
    "plot = merged_df.merge(our_counts_df, left_on=\"Name\", right_on=\"Name_left\").plot(column=\"count\", ax=ax, cmap=reds_fixed, vmin=0, vmax=p95, edgecolor=\"black\", linewidth=0.1)\n",
    "plot.set_axis_off()\n",
    "cbar = fig.colorbar(plot.collections[0], ax=plot)\n",
    "cbar.set_label(\"Count\")\n",
    "plt.tight_layout()\n",
    "fig.savefig(\"../figures/brick_kilns_our_counts.pdf\")\n",
    "fig.savefig(\"../figures/brick_kilns_our_counts.png\", dpi=300)"
   ]
  },
  {
   "cell_type": "code",
   "execution_count": null,
   "metadata": {},
   "outputs": [],
   "source": [
    "import seaborn as sns\n",
    "\n",
    "latexify(width=5.9/3, height=1.5, font_size=6)\n",
    "plt.figure()\n",
    "sorted_survey_counts = merged_df.sort_values(\"survey_count\", ascending=True)\n",
    "\n",
    "survey_counts = sorted_survey_counts.survey_count.tolist()\n",
    "our_counts = our_counts_df.set_index(\"Name_left\").loc[sorted_survey_counts.Name]['count'].tolist()\n",
    "\n",
    "plt.plot(survey_counts, our_counts, 'o', markersize=1)\n",
    "plt.plot([0, max(survey_counts)], [0, max(survey_counts)], 'k--', linewidth=0.5, label=\"y=x\")\n",
    "plt.xlabel(\"Survey count\")\n",
    "plt.ylabel(\"Our count\")\n",
    "sns.despine()\n",
    "plt.legend()\n",
    "plt.tight_layout()\n",
    "plt.savefig(\"../figures/brick_kilns_comparison.pdf\")\n",
    "plt.savefig(\"../figures/brick_kilns_comparison.png\", dpi=300)"
   ]
  },
  {
   "cell_type": "code",
   "execution_count": null,
   "metadata": {},
   "outputs": [],
   "source": [
    "errors = np.abs(np.array(survey_counts) - np.array(our_counts))\n",
    "mean_error = np.mean(errors)\n",
    "median_error = np.median(errors)\n",
    "std_error = np.std(errors)\n",
    "print(f\"{mean_error=}, {std_error=}, {median_error=}\")"
   ]
  },
  {
   "cell_type": "code",
   "execution_count": null,
   "metadata": {},
   "outputs": [],
   "source": [
    "np.corrcoef(survey_counts, our_counts)"
   ]
  },
  {
   "cell_type": "code",
   "execution_count": null,
   "metadata": {},
   "outputs": [],
   "source": [
    "pd.DataFrame({\"survey_count\": survey_counts, \"our_count\": our_counts}).corr()"
   ]
  }
 ],
 "metadata": {
  "kernelspec": {
   "display_name": "zeel_py310",
   "language": "python",
   "name": "python3"
  },
  "language_info": {
   "codemirror_mode": {
    "name": "ipython",
    "version": 3
   },
   "file_extension": ".py",
   "mimetype": "text/x-python",
   "name": "python",
   "nbconvert_exporter": "python",
   "pygments_lexer": "ipython3",
   "version": "3.10.15"
  }
 },
 "nbformat": 4,
 "nbformat_minor": 2
}
