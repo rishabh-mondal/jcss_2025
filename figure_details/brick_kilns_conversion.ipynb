{
 "cells": [
  {
   "cell_type": "code",
   "execution_count": null,
   "metadata": {},
   "outputs": [],
   "source": [
    "import pandas as pd\n",
    "import numpy as np\n",
    "\n",
    "# Replace NaN values with 0\n",
    "from math import sqrt\n",
    "SPINE_COLOR = 'gray'\n",
    "import matplotlib.pyplot as plt\n",
    "import matplotlib"
   ]
  },
  {
   "cell_type": "code",
   "execution_count": null,
   "metadata": {},
   "outputs": [],
   "source": [
    "latexify()"
   ]
  },
  {
   "cell_type": "code",
   "execution_count": null,
   "metadata": {},
   "outputs": [],
   "source": [
    "path=\"brick_kilns_conversion_data/\"\n",
    "region='delhi'\n",
    "data_path=path+region+'.csv'\n",
    "# print(data_path)\n",
    "data=pd.read_csv(data_path)\n",
    "data.head(20)\n"
   ]
  },
  {
   "cell_type": "code",
   "execution_count": null,
   "metadata": {},
   "outputs": [],
   "source": [
    "data['fcb to zigzag'].value_counts()"
   ]
  },
  {
   "cell_type": "code",
   "execution_count": null,
   "metadata": {},
   "outputs": [],
   "source": [
    "#tranfer the all the values to int\n",
    "#replace the nan values with 0\n",
    "data['Circular FCB to Zigzag'] = data['Circular FCB to Zigzag'].replace(np.nan, 0)\n",
    "# print(data['Circular FCB to Zigzag'])\n",
    "data['Circular FCB to Zigzag']=data['Circular FCB to Zigzag'].astype(int)\n",
    "data['Circular FCB to Zigzag'].value_counts()"
   ]
  },
  {
   "cell_type": "code",
   "execution_count": null,
   "metadata": {},
   "outputs": [],
   "source": [
    "data['circular FCB to Oval FCB']=data['circular FCB to Oval FCB'].replace(np.nan, 0)\n",
    "data['circular FCB to Oval FCB']=data['circular FCB to Oval FCB'].astype(int)\n",
    "data['circular FCB to Oval FCB'].value_counts()"
   ]
  },
  {
   "cell_type": "code",
   "execution_count": null,
   "metadata": {},
   "outputs": [],
   "source": [
    "data['ZigZag to FCB']=data['ZigZag to FCB'].replace(np.nan, 0)  \n",
    "data['ZigZag to FCB']=data['ZigZag to FCB'].astype(int)\n",
    "data['ZigZag to FCB'].value_counts()\n"
   ]
  },
  {
   "cell_type": "code",
   "execution_count": null,
   "metadata": {},
   "outputs": [],
   "source": [
    "data['Year Demolished']=data['Year Demolished'].replace(np.nan, 0)\n",
    "data['Year Demolished']=data['Year Demolished'].astype(int)\n",
    "data['Year Demolished'].value_counts()\n"
   ]
  },
  {
   "cell_type": "code",
   "execution_count": null,
   "metadata": {},
   "outputs": [],
   "source": [
    "data['Year made']=data['Year made'].replace(np.nan, 0)\n",
    "data['Year made']=data['Year made'].astype(int)\n",
    "data['Year made'].value_counts()\n"
   ]
  },
  {
   "cell_type": "code",
   "execution_count": null,
   "metadata": {},
   "outputs": [],
   "source": [
    "data['Type'].value_counts()\n"
   ]
  },
  {
   "cell_type": "code",
   "execution_count": null,
   "metadata": {},
   "outputs": [],
   "source": [
    "# Filter rows where Type is 1 and then get value counts for 'Type' and 'Year made'\n",
    "type_1_counts = data[data['Type'] == 1][['Type', 'Year made']].value_counts()\n",
    "type_1_counts\n"
   ]
  },
  {
   "cell_type": "code",
   "execution_count": null,
   "metadata": {},
   "outputs": [],
   "source": [
    "type_0_counts = data[data['Type'] == 0][['Type', 'Year made']].value_counts()\n",
    "type_0_counts"
   ]
  },
  {
   "cell_type": "code",
   "execution_count": null,
   "metadata": {},
   "outputs": [],
   "source": [
    "# Define historical data for Lucknow\n",
    "years_lucknow = []\n",
    "brick_kilns_total_lucknow = []\n",
    "brick_kilns_fcb_lucknow = []\n",
    "brick_kilns_zigzag_lucknow = []\n",
    "\n",
    "# Define historical data for Delhi\n",
    "years_delhi = []\n",
    "brick_kilns_total_delhi = []\n",
    "brick_kilns_fcb_delhi = []\n",
    "brick_kilns_zigzag_delhi = []  "
   ]
  },
  {
   "cell_type": "code",
   "execution_count": null,
   "metadata": {},
   "outputs": [],
   "source": [
    "fig, ax = plt.subplots()\n",
    "ax.plot(years_delhi, brick_kilns_total_delhi, label='Total', color='blue', marker='o',markersize=3)\n",
    "ax.plot(years_delhi, brick_kilns_fcb_delhi, label='FCBK', color='orange', marker='o',markersize=3)\n",
    "ax.plot(years_delhi, brick_kilns_zigzag_delhi, label='Zigzag', color='green', marker='o',markersize=3)\n",
    "plt.xlabel('Years')\n",
    "plt.ylabel('Number of brick kilns')\n",
    "plt.tight_layout()\n",
    "plt.legend(loc='upper right',ncol=3)\n",
    "plt.ylim(0, 1000)\n",
    "# plt.grid()\n",
    "plt.savefig('brick_kilns_delhi.pdf',bbox_inches='tight')   \n",
    "\n"
   ]
  },
  {
   "cell_type": "code",
   "execution_count": null,
   "metadata": {},
   "outputs": [],
   "source": [
    "fig, ax = plt.subplots()\n",
    "ax.plot(years_lucknow, brick_kilns_total_lucknow, label='Total', color='blue', marker='o',markersize=3)\n",
    "ax.plot(years_lucknow, brick_kilns_fcb_lucknow, label='FCBK', color='orange', marker='o',markersize=3)\n",
    "ax.plot(years_lucknow, brick_kilns_zigzag_lucknow, label='Zigzag', color='green', marker='o',markersize=3)\n",
    "plt.xlabel('Years')\n",
    "plt.ylabel('Number of brick kilns')\n",
    "plt.tight_layout()\n",
    "plt.legend(loc='upper right',ncol=3)\n",
    "plt.ylim(0, 600)\n",
    "# plt.grid()\n",
    "plt.savefig('brick_kilns_lucknow.pdf',bbox_inches='tight')\n"
   ]
  },
  {
   "cell_type": "code",
   "execution_count": null,
   "metadata": {},
   "outputs": [],
   "source": []
  }
 ],
 "metadata": {
  "kernelspec": {
   "display_name": "rishabh_sat",
   "language": "python",
   "name": "python3"
  },
  "language_info": {
   "codemirror_mode": {
    "name": "ipython",
    "version": 3
   },
   "file_extension": ".py",
   "mimetype": "text/x-python",
   "name": "python",
   "nbconvert_exporter": "python",
   "pygments_lexer": "ipython3",
   "version": "3.12.4"
  }
 },
 "nbformat": 4,
 "nbformat_minor": 2
}
