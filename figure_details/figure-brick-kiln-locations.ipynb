{
 "cells": [
  {
   "cell_type": "code",
   "execution_count": null,
   "metadata": {},
   "outputs": [],
   "source": [
    "# Config\n",
    "import os\n",
    "\n",
    "# Basic\n",
    "import numpy as np\n",
    "import pandas as pd\n",
    "import matplotlib.pyplot as plt\n",
    "\n",
    "# Monitoring\n",
    "from tqdm.notebook import tqdm\n",
    "\n",
    "# IO\n",
    "from os.path import join, exists, basename, dirname, splitext, expanduser\n",
    "from glob import glob\n",
    "\n",
    "# Parallel processing\n",
    "from joblib import Parallel, delayed\n",
    "import geopandas as gpd\n",
    "\n",
    "from astra.plot.utils import latexify"
   ]
  },
  {
   "cell_type": "code",
   "execution_count": null,
   "metadata": {},
   "outputs": [],
   "source": [
    "india_shape = gpd.read_file(\"India_State_Boundary.shp\").to_crs(\"EPSG:4326\")\n",
    "\n",
    "kiln_locations = []\n",
    "for state in [\"uttar_pradesh\", \"bihar\", \"west_bengal\", \"haryana\", \"punjab\"]:\n",
    "    kiln_locations.append(gpd.read_file(f\"labels/{state}.geojson\").to_crs(\"EPSG:4326\"))\n",
    "    \n",
    "all_kilns_gdf = pd.concat(kiln_locations, ignore_index=True)\n",
    "len(all_kilns_gdf)"
   ]
  },
  {
   "cell_type": "code",
   "execution_count": null,
   "metadata": {},
   "outputs": [],
   "source": [
    "all_kilns_gdf.head(2)"
   ]
  },
  {
   "cell_type": "code",
   "execution_count": null,
   "metadata": {},
   "outputs": [],
   "source": [
    "# latexify(5, 2, font_size=10)\n",
    "\n",
    "kiln_tech = \"CFCBK\"\n",
    "kiln_tech = \"FCBK\"\n",
    "kiln_tech = \"Zigzag\"\n",
    "\n",
    "fig, ax = plt.subplots(dpi=300, figsize=(10, 10))\n",
    "india_shape.plot(ax=ax, color=\"none\", edgecolor=\"black\", linewidth=0.5)\n",
    "\n",
    "# scatter plot of the kiln locations\n",
    "CFCBK_kilns = all_kilns_gdf[all_kilns_gdf[\"class_name\"] == \"CFCBK\"]\n",
    "FCBK_kilns = all_kilns_gdf[all_kilns_gdf[\"class_name\"] == \"FCBK\"]\n",
    "Zigzag_kilns = all_kilns_gdf[all_kilns_gdf[\"class_name\"] == \"Zigzag\"]\n",
    "\n",
    "if kiln_tech == \"CFCBK\":\n",
    "    ax.scatter(CFCBK_kilns.center_lon, CFCBK_kilns.center_lat, s=0.1, color='red')\n",
    "elif kiln_tech == \"FCBK\":\n",
    "    ax.scatter(FCBK_kilns.center_lon, FCBK_kilns.center_lat, s=0.1, color='orange')\n",
    "elif kiln_tech == \"Zigzag\":\n",
    "    ax.scatter(Zigzag_kilns.center_lon, Zigzag_kilns.center_lat, s=0.1, color='green')\n",
    "\n",
    "ax.set_aspect(\"equal\")\n",
    "ax.set_axis_off()\n",
    "ax.set_xlim(73, 89.1)\n",
    "ax.set_ylim(21.6, 32.5)\n",
    "\n",
    "ax.text(78, 27.2, \"Uttar Pradesh\", fontsize=20, alpha=0.8)\n",
    "ax.text(85.5, 25.2, \"Bihar\", fontsize=20, alpha=0.8)\n",
    "ax.text(86.5, 22.5, \"West\\nBengal\", fontsize=20, alpha=0.8)\n",
    "ax.text(75, 29, \"Haryana\", fontsize=20, alpha=0.8)\n",
    "ax.text(74.4, 30.3, \"Punjab\", fontsize=20, alpha=0.8)\n",
    "\n",
    "ax.text(74.5, 26.5, \"Delhi\", fontsize=20, alpha=0.8)\n",
    "\n",
    "# draw a quiver between the two points\n",
    "ax.quiver(75.5, 27, 1.65, 1.65, scale=1, scale_units='xy', angles='xy', color='black', width=0.004)\n",
    "\n",
    "fig.savefig(f\"../figures/kiln_locations_{kiln_tech}.png\", bbox_inches=\"tight\", dpi=300)"
   ]
  }
 ],
 "metadata": {
  "kernelspec": {
   "display_name": "zeel_py310",
   "language": "python",
   "name": "python3"
  },
  "language_info": {
   "codemirror_mode": {
    "name": "ipython",
    "version": 3
   },
   "file_extension": ".py",
   "mimetype": "text/x-python",
   "name": "python",
   "nbconvert_exporter": "python",
   "pygments_lexer": "ipython3",
   "version": "3.10.15"
  }
 },
 "nbformat": 4,
 "nbformat_minor": 2
}
